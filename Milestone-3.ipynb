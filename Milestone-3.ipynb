{
 "cells": [
  {
   "cell_type": "markdown",
   "id": "e23c55d7-89de-43ed-9889-6963ddb39c9c",
   "metadata": {},
   "source": [
    "# Final Project\n",
    "## Milestone 3\n",
    "#### Olivia O'Mahoney\n",
    "#### 12/2/2024"
   ]
  },
  {
   "cell_type": "code",
   "execution_count": 2,
   "id": "fe37172e-987d-4fd4-a398-1552d3d5367b",
   "metadata": {},
   "outputs": [
    {
     "name": "stdout",
     "output_type": "stream",
     "text": [
      "Requirement already satisfied: nltk in f:\\anacondaforschool\\lib\\site-packages (3.9.1)\n",
      "Requirement already satisfied: click in f:\\anacondaforschool\\lib\\site-packages (from nltk) (8.1.7)\n",
      "Requirement already satisfied: joblib in f:\\anacondaforschool\\lib\\site-packages (from nltk) (1.4.2)\n",
      "Requirement already satisfied: regex>=2021.8.3 in f:\\anacondaforschool\\lib\\site-packages (from nltk) (2024.9.11)\n",
      "Requirement already satisfied: tqdm in f:\\anacondaforschool\\lib\\site-packages (from nltk) (4.66.5)\n",
      "Requirement already satisfied: colorama in f:\\anacondaforschool\\lib\\site-packages (from click->nltk) (0.4.6)\n"
     ]
    }
   ],
   "source": [
    "# Installs\n",
    "!pip install nltk\n",
    "# Imports\n",
    "import numpy as np\n",
    "import pandas as pd\n",
    "import matplotlib.pyplot as plt\n",
    "import seaborn as sns\n",
    "import os\n",
    "import nltk"
   ]
  },
  {
   "cell_type": "code",
   "execution_count": 3,
   "id": "9ce7a617-563b-4dfc-90f3-982ebfe1e11f",
   "metadata": {},
   "outputs": [
    {
     "name": "stderr",
     "output_type": "stream",
     "text": [
      "[nltk_data] Downloading package punkt_tab to\n",
      "[nltk_data]     C:\\Users\\Olivia\\AppData\\Roaming\\nltk_data...\n",
      "[nltk_data]   Package punkt_tab is already up-to-date!\n",
      "[nltk_data] Downloading package brown to\n",
      "[nltk_data]     C:\\Users\\Olivia\\AppData\\Roaming\\nltk_data...\n",
      "[nltk_data]   Package brown is already up-to-date!\n",
      "[nltk_data] Downloading package movie_reviews to\n",
      "[nltk_data]     C:\\Users\\Olivia\\AppData\\Roaming\\nltk_data...\n",
      "[nltk_data]   Package movie_reviews is already up-to-date!\n",
      "[nltk_data] Downloading package wordnet to\n",
      "[nltk_data]     C:\\Users\\Olivia\\AppData\\Roaming\\nltk_data...\n",
      "[nltk_data]   Package wordnet is already up-to-date!\n",
      "[nltk_data] Downloading package stopwords to\n",
      "[nltk_data]     C:\\Users\\Olivia\\AppData\\Roaming\\nltk_data...\n",
      "[nltk_data]   Package stopwords is already up-to-date!\n"
     ]
    },
    {
     "data": {
      "text/plain": [
       "True"
      ]
     },
     "execution_count": 3,
     "metadata": {},
     "output_type": "execute_result"
    }
   ],
   "source": [
    "nltk.download('punkt_tab')  #a sentence tokenizer with parts of speech taggers\n",
    "nltk.download('brown') # the corpora created in the 1960's at Brown University\n",
    "nltk.download('movie_reviews')  # movie review text\n",
    "nltk.download('wordnet')  #used for word definitions, synonyms\n",
    "nltk.download('stopwords') # a predefined list of stopwords (in English, by default)"
   ]
  },
  {
   "cell_type": "code",
   "execution_count": 4,
   "id": "2a88a3f7-7126-4e77-8cc6-31143ac75859",
   "metadata": {},
   "outputs": [
    {
     "name": "stdout",
     "output_type": "stream",
     "text": [
      "C:\\Users\\Olivia\\Downloads\\test.csv\n",
      "True\n"
     ]
    }
   ],
   "source": [
    "file = r\"C:\\Users\\Olivia\\Downloads\\test.csv\"\n",
    "print(file)\n",
    "print(os.path.exists(file))"
   ]
  },
  {
   "cell_type": "code",
   "execution_count": 5,
   "id": "3f5ee67c-8ee2-4c66-9650-5bdc96b9b901",
   "metadata": {},
   "outputs": [
    {
     "name": "stdout",
     "output_type": "stream",
     "text": [
      "   2                                           Great CD  \\\n",
      "0  2  One of the best game music soundtracks - for a...   \n",
      "1  1                   Batteries died within a year ...   \n",
      "2  2              works fine, but Maha Energy is better   \n",
      "3  2                       Great for the non-audiophile   \n",
      "4  1              DVD Player crapped out after one year   \n",
      "\n",
      "  My lovely Pat has one of the GREAT voices of her generation. I have listened to this CD for YEARS and I still LOVE IT. When I'm in a good mood it makes me feel better. A bad mood just evaporates like sugar in the rain. This CD just oozes LIFE. Vocals are jusat STUUNNING and lyrics just kill. One of life's hidden gems. This is a desert isle CD in my book. Why she never made it big is just beyond me. Everytime I play this, no matter black, white, young, old, male, female EVERYBODY says one thing \"Who was that singing ?\"  \n",
      "0  Despite the fact that I have only played a sma...                                                                                                                                                                                                                                                                                                                                                                                                                                                                                           \n",
      "1  I bought this charger in Jul 2003 and it worke...                                                                                                                                                                                                                                                                                                                                                                                                                                                                                           \n",
      "2  Check out Maha Energy's website. Their Powerex...                                                                                                                                                                                                                                                                                                                                                                                                                                                                                           \n",
      "3  Reviewed quite a bit of the combo players and ...                                                                                                                                                                                                                                                                                                                                                                                                                                                                                           \n",
      "4  I also began having the incorrect disc problem...                                                                                                                                                                                                                                                                                                                                                                                                                                                                                           \n"
     ]
    }
   ],
   "source": [
    "try:\n",
    "    df = pd.read_csv(file, encoding='ISO-8859-1')\n",
    "    print(df.head())\n",
    "except PermissionError as e:\n",
    "    print(f\"PermissionError: {e}\")"
   ]
  },
  {
   "cell_type": "markdown",
   "id": "adb9b9f6-8c9a-46de-a5d2-e00460815c96",
   "metadata": {},
   "source": [
    "## Exploring the Data"
   ]
  },
  {
   "cell_type": "code",
   "execution_count": 7,
   "id": "b081a44b-6275-4a88-a18a-2a310942b4ae",
   "metadata": {},
   "outputs": [
    {
     "name": "stdout",
     "output_type": "stream",
     "text": [
      "Basic Info:\n",
      "<class 'pandas.core.frame.DataFrame'>\n",
      "RangeIndex: 399999 entries, 0 to 399998\n",
      "Data columns (total 3 columns):\n",
      " #   Column                                                                                                                                                                                                                                                                                                                                                                                                                                                                                                                                       Non-Null Count   Dtype \n",
      "---  ------                                                                                                                                                                                                                                                                                                                                                                                                                                                                                                                                       --------------   ----- \n",
      " 0   2                                                                                                                                                                                                                                                                                                                                                                                                                                                                                                                                            399999 non-null  int64 \n",
      " 1   Great CD                                                                                                                                                                                                                                                                                                                                                                                                                                                                                                                                     399975 non-null  object\n",
      " 2   My lovely Pat has one of the GREAT voices of her generation. I have listened to this CD for YEARS and I still LOVE IT. When I'm in a good mood it makes me feel better. A bad mood just evaporates like sugar in the rain. This CD just oozes LIFE. Vocals are jusat STUUNNING and lyrics just kill. One of life's hidden gems. This is a desert isle CD in my book. Why she never made it big is just beyond me. Everytime I play this, no matter black, white, young, old, male, female EVERYBODY says one thing \"Who was that singing ?\"  399999 non-null  object\n",
      "dtypes: int64(1), object(2)\n",
      "memory usage: 9.2+ MB\n"
     ]
    }
   ],
   "source": [
    "# Print the Basic Information of the Dataset CSV\n",
    "print(\"Basic Info:\")\n",
    "df.info()"
   ]
  },
  {
   "cell_type": "code",
   "execution_count": 8,
   "id": "292b26b8-a65a-4f02-ae18-41c0dd655ac9",
   "metadata": {},
   "outputs": [
    {
     "name": "stdout",
     "output_type": "stream",
     "text": [
      "\n",
      "First 9 rows:\n",
      "   2                                           Great CD  \\\n",
      "0  2  One of the best game music soundtracks - for a...   \n",
      "1  1                   Batteries died within a year ...   \n",
      "2  2              works fine, but Maha Energy is better   \n",
      "3  2                       Great for the non-audiophile   \n",
      "4  1              DVD Player crapped out after one year   \n",
      "5  1                                     Incorrect Disc   \n",
      "6  1                           DVD menu select problems   \n",
      "7  2            Unique Weird Orientalia from the 1930's   \n",
      "8  1                            Not an \"ultimate guide\"   \n",
      "\n",
      "  My lovely Pat has one of the GREAT voices of her generation. I have listened to this CD for YEARS and I still LOVE IT. When I'm in a good mood it makes me feel better. A bad mood just evaporates like sugar in the rain. This CD just oozes LIFE. Vocals are jusat STUUNNING and lyrics just kill. One of life's hidden gems. This is a desert isle CD in my book. Why she never made it big is just beyond me. Everytime I play this, no matter black, white, young, old, male, female EVERYBODY says one thing \"Who was that singing ?\"  \n",
      "0  Despite the fact that I have only played a sma...                                                                                                                                                                                                                                                                                                                                                                                                                                                                                           \n",
      "1  I bought this charger in Jul 2003 and it worke...                                                                                                                                                                                                                                                                                                                                                                                                                                                                                           \n",
      "2  Check out Maha Energy's website. Their Powerex...                                                                                                                                                                                                                                                                                                                                                                                                                                                                                           \n",
      "3  Reviewed quite a bit of the combo players and ...                                                                                                                                                                                                                                                                                                                                                                                                                                                                                           \n",
      "4  I also began having the incorrect disc problem...                                                                                                                                                                                                                                                                                                                                                                                                                                                                                           \n",
      "5  I love the style of this, but after a couple y...                                                                                                                                                                                                                                                                                                                                                                                                                                                                                           \n",
      "6  I cannot scroll through a DVD menu that is set...                                                                                                                                                                                                                                                                                                                                                                                                                                                                                           \n",
      "7  Exotic tales of the Orient from the 1930's. \"D...                                                                                                                                                                                                                                                                                                                                                                                                                                                                                           \n",
      "8  Firstly,I enjoyed the format and tone of the b...                                                                                                                                                                                                                                                                                                                                                                                                                                                                                           \n"
     ]
    }
   ],
   "source": [
    "# Print the first 9 rows of the Dataset CSV\n",
    "print(\"\\nFirst 9 rows:\")\n",
    "print(df.head(9))"
   ]
  },
  {
   "cell_type": "code",
   "execution_count": 9,
   "id": "d83fb006-e7dc-49a8-a68d-6bd01af047da",
   "metadata": {},
   "outputs": [
    {
     "name": "stdout",
     "output_type": "stream",
     "text": [
      "\n",
      "Last 5 rows:\n",
      "        2                         Great CD  \\\n",
      "399994  1       Unbelievable- In a Bad Way   \n",
      "399995  1  Almost Great, Until it Broke...   \n",
      "399996  1                 Disappointed !!!   \n",
      "399997  2          Classic Jessica Mitford   \n",
      "399998  1      Comedy Scene, and Not Heard   \n",
      "\n",
      "       My lovely Pat has one of the GREAT voices of her generation. I have listened to this CD for YEARS and I still LOVE IT. When I'm in a good mood it makes me feel better. A bad mood just evaporates like sugar in the rain. This CD just oozes LIFE. Vocals are jusat STUUNNING and lyrics just kill. One of life's hidden gems. This is a desert isle CD in my book. Why she never made it big is just beyond me. Everytime I play this, no matter black, white, young, old, male, female EVERYBODY says one thing \"Who was that singing ?\"  \n",
      "399994  We bought this Thomas for our son who is a hug...                                                                                                                                                                                                                                                                                                                                                                                                                                                                                           \n",
      "399995  My son recieved this as a birthday gift 2 mont...                                                                                                                                                                                                                                                                                                                                                                                                                                                                                           \n",
      "399996  I bought this toy for my son who loves the \"Th...                                                                                                                                                                                                                                                                                                                                                                                                                                                                                           \n",
      "399997  This is a compilation of a wide range of Mitfo...                                                                                                                                                                                                                                                                                                                                                                                                                                                                                           \n",
      "399998  This DVD will be a disappointment if you get i...                                                                                                                                                                                                                                                                                                                                                                                                                                                                                           \n"
     ]
    }
   ],
   "source": [
    "# Print the last five rows of the Dataset CSV\n",
    "print(\"\\nLast 5 rows:\")\n",
    "print(df.tail())"
   ]
  },
  {
   "cell_type": "code",
   "execution_count": 10,
   "id": "f5a39c65-1f8d-402a-8b6b-0e945ae73ae4",
   "metadata": {},
   "outputs": [
    {
     "name": "stdout",
     "output_type": "stream",
     "text": [
      "\n",
      "Random sample of rows:\n",
      "        2              Great CD  \\\n",
      "4845    1  African Architecture   \n",
      "336282  2    WOW! Great Service   \n",
      "341655  1          Disappointed   \n",
      "46967   2             Wondersul   \n",
      "197469  2            Fun books!   \n",
      "\n",
      "       My lovely Pat has one of the GREAT voices of her generation. I have listened to this CD for YEARS and I still LOVE IT. When I'm in a good mood it makes me feel better. A bad mood just evaporates like sugar in the rain. This CD just oozes LIFE. Vocals are jusat STUUNNING and lyrics just kill. One of life's hidden gems. This is a desert isle CD in my book. Why she never made it big is just beyond me. Everytime I play this, no matter black, white, young, old, male, female EVERYBODY says one thing \"Who was that singing ?\"  \n",
      "4845    Hugely disappointing. This book promises more ...                                                                                                                                                                                                                                                                                                                                                                                                                                                                                           \n",
      "336282  I placed my order August 9,2010. The transacti...                                                                                                                                                                                                                                                                                                                                                                                                                                                                                           \n",
      "341655  We had two old Kongs this size, (large) that l...                                                                                                                                                                                                                                                                                                                                                                                                                                                                                           \n",
      "46967   I waited a long time to get this video and it ...                                                                                                                                                                                                                                                                                                                                                                                                                                                                                           \n",
      "197469  My 9-year-old boy is getting a kick out of thi...                                                                                                                                                                                                                                                                                                                                                                                                                                                                                           \n"
     ]
    }
   ],
   "source": [
    "# Samply 5 random rows from the Dataset \n",
    "print(\"\\nRandom sample of rows:\")\n",
    "print(df.sample(5))"
   ]
  },
  {
   "cell_type": "code",
   "execution_count": 11,
   "id": "e8afe2ce-5b51-44c5-9db6-2e344c8c0ab5",
   "metadata": {},
   "outputs": [
    {
     "name": "stdout",
     "output_type": "stream",
     "text": [
      "\n",
      "Columns in the dataset:\n",
      "Index(['2', 'Great CD',\n",
      "       'My lovely Pat has one of the GREAT voices of her generation. I have listened to this CD for YEARS and I still LOVE IT. When I'm in a good mood it makes me feel better. A bad mood just evaporates like sugar in the rain. This CD just oozes LIFE. Vocals are jusat STUUNNING and lyrics just kill. One of life's hidden gems. This is a desert isle CD in my book. Why she never made it big is just beyond me. Everytime I play this, no matter black, white, young, old, male, female EVERYBODY says one thing \"Who was that singing ?\"'],\n",
      "      dtype='object')\n"
     ]
    }
   ],
   "source": [
    "print(\"\\nColumns in the dataset:\")\n",
    "print(df.columns)"
   ]
  },
  {
   "cell_type": "code",
   "execution_count": 12,
   "id": "b07d1fee-9bd6-421f-9274-ff34ce8ba62e",
   "metadata": {},
   "outputs": [
    {
     "name": "stdout",
     "output_type": "stream",
     "text": [
      "\n",
      "Shape of the dataset (rows, columns):\n",
      "(399999, 3)\n"
     ]
    }
   ],
   "source": [
    "print(\"\\nShape of the dataset (rows, columns):\")\n",
    "print(df.shape)"
   ]
  },
  {
   "cell_type": "code",
   "execution_count": 13,
   "id": "6ea700d2-be7b-4c18-a273-6e9e6795f923",
   "metadata": {},
   "outputs": [
    {
     "name": "stdout",
     "output_type": "stream",
     "text": [
      "\n",
      "Data types of each column:\n",
      "2                                                                                                                                                                                                                                                                                                                                                                                                                                                                                                                                               int64\n",
      "Great CD                                                                                                                                                                                                                                                                                                                                                                                                                                                                                                                                       object\n",
      "My lovely Pat has one of the GREAT voices of her generation. I have listened to this CD for YEARS and I still LOVE IT. When I'm in a good mood it makes me feel better. A bad mood just evaporates like sugar in the rain. This CD just oozes LIFE. Vocals are jusat STUUNNING and lyrics just kill. One of life's hidden gems. This is a desert isle CD in my book. Why she never made it big is just beyond me. Everytime I play this, no matter black, white, young, old, male, female EVERYBODY says one thing \"Who was that singing ?\"    object\n",
      "dtype: object\n"
     ]
    }
   ],
   "source": [
    "print(\"\\nData types of each column:\")\n",
    "print(df.dtypes)"
   ]
  },
  {
   "cell_type": "code",
   "execution_count": 14,
   "id": "500e543d-7bf4-4f6b-a3e2-83e91ac64021",
   "metadata": {},
   "outputs": [
    {
     "name": "stdout",
     "output_type": "stream",
     "text": [
      "\n",
      "Statistical summary of numeric columns:\n",
      "                   2\n",
      "count  399999.000000\n",
      "mean        1.499999\n",
      "std         0.500001\n",
      "min         1.000000\n",
      "25%         1.000000\n",
      "50%         1.000000\n",
      "75%         2.000000\n",
      "max         2.000000\n"
     ]
    }
   ],
   "source": [
    "print(\"\\nStatistical summary of numeric columns:\")\n",
    "print(df.describe())"
   ]
  },
  {
   "cell_type": "markdown",
   "id": "940e2d25-759e-4784-bb54-ef80230e0b1f",
   "metadata": {},
   "source": [
    "## Cleaning the Data"
   ]
  },
  {
   "cell_type": "code",
   "execution_count": 16,
   "id": "2130f9cd-c460-40e7-899f-79a5917b7360",
   "metadata": {},
   "outputs": [
    {
     "name": "stdout",
     "output_type": "stream",
     "text": [
      "\n",
      "Missing values in each column:\n",
      "2                                                                                                                                                                                                                                                                                                                                                                                                                                                                                                                                               0\n",
      "Great CD                                                                                                                                                                                                                                                                                                                                                                                                                                                                                                                                       24\n",
      "My lovely Pat has one of the GREAT voices of her generation. I have listened to this CD for YEARS and I still LOVE IT. When I'm in a good mood it makes me feel better. A bad mood just evaporates like sugar in the rain. This CD just oozes LIFE. Vocals are jusat STUUNNING and lyrics just kill. One of life's hidden gems. This is a desert isle CD in my book. Why she never made it big is just beyond me. Everytime I play this, no matter black, white, young, old, male, female EVERYBODY says one thing \"Who was that singing ?\"     0\n",
      "dtype: int64\n"
     ]
    }
   ],
   "source": [
    "# Check for missing values (NaNs)\n",
    "print(\"\\nMissing values in each column:\")\n",
    "print(df.isnull().sum())"
   ]
  },
  {
   "cell_type": "code",
   "execution_count": 17,
   "id": "9e99414c-d57e-4c49-8e13-504810be39ea",
   "metadata": {},
   "outputs": [
    {
     "name": "stdout",
     "output_type": "stream",
     "text": [
      "Index(['2', 'Great CD',\n",
      "       'My lovely Pat has one of the GREAT voices of her generation. I have listened to this CD for YEARS and I still LOVE IT. When I'm in a good mood it makes me feel better. A bad mood just evaporates like sugar in the rain. This CD just oozes LIFE. Vocals are jusat STUUNNING and lyrics just kill. One of life's hidden gems. This is a desert isle CD in my book. Why she never made it big is just beyond me. Everytime I play this, no matter black, white, young, old, male, female EVERYBODY says one thing \"Who was that singing ?\"'],\n",
      "      dtype='object')\n"
     ]
    }
   ],
   "source": [
    "print(df.columns)"
   ]
  },
  {
   "cell_type": "markdown",
   "id": "8e1d55f4-3d7d-4d51-b699-204e1802770c",
   "metadata": {},
   "source": [
    "### Fill the data's missing values"
   ]
  },
  {
   "cell_type": "code",
   "execution_count": 19,
   "id": "670cb37c-d772-42eb-814d-43e53086c218",
   "metadata": {},
   "outputs": [],
   "source": [
    "df['2'] = df['2'].fillna(df['2'].median())"
   ]
  },
  {
   "cell_type": "code",
   "execution_count": 20,
   "id": "13e4c984-3d91-48a5-a77f-b4592b58e454",
   "metadata": {},
   "outputs": [],
   "source": [
    "df['Great CD'] = df['Great CD'].fillna(df['Great CD'].mode()[0])"
   ]
  },
  {
   "cell_type": "code",
   "execution_count": 21,
   "id": "02608bd2-d844-4e58-9caf-172cb4a99f7c",
   "metadata": {},
   "outputs": [],
   "source": [
    "df.rename(columns={\n",
    "    'My lovely Pat has one of the GREAT voices of her generation. I have listened to this CD for YEARS and I still LOVE IT. When I\\'m in a good mood it makes me feel better. A bad mood just evaporates like sugar in the rain. This CD just oozes LIFE. Vocals are jusat STUUNNING and lyrics just kill. One of life\\'s hidden gems. This is a desert isle CD in my book. Why she never made it big is just beyond me. Everytime I play this, no matter black, white, young, old, male, female EVERYBODY says one thing \"Who was that singing ?\"':\n",
    "    'Great_CD_review'\n",
    "}, inplace=True)\n",
    "\n",
    "df['Great_CD_review'] = df['Great_CD_review'].fillna(df['Great_CD_review'].mode()[0])"
   ]
  },
  {
   "cell_type": "markdown",
   "id": "f62ddea7-38f6-44c5-be58-9ea5e702251d",
   "metadata": {},
   "source": [
    "### Great CD Outliers"
   ]
  },
  {
   "cell_type": "code",
   "execution_count": 23,
   "id": "9291e435-3463-4bb7-be12-5c55fdf009c6",
   "metadata": {},
   "outputs": [
    {
     "name": "stdout",
     "output_type": "stream",
     "text": [
      "0    One of the best game music soundtracks - for a...\n",
      "1                     Batteries died within a year ...\n",
      "2                works fine, but Maha Energy is better\n",
      "3                         Great for the non-audiophile\n",
      "4                DVD Player crapped out after one year\n",
      "Name: Great CD, dtype: object\n"
     ]
    }
   ],
   "source": [
    "print(df['Great CD'].head())"
   ]
  },
  {
   "cell_type": "code",
   "execution_count": 30,
   "id": "aaad8172-4867-4ff2-b197-92b4cdc76f35",
   "metadata": {},
   "outputs": [
    {
     "data": {
      "image/png": "[encoded data removed]",
      "text/plain": [
       "<Figure size 640x480 with 1 Axes>"
      ]
     },
     "metadata": {},
     "output_type": "display_data"
    }
   ],
   "source": [
    "# Identifying outliers in a numerical column\n",
    "df['Great CD'] = pd.to_numeric(df['Great CD'], errors='coerce')\n",
    "df = df.dropna(subset=['Great CD'])\n",
    "plt.rcParams['font.family'] = 'Arial' # match all of the fonts if not done already\n",
    "sns.boxplot(x=df['Great CD'])\n",
    "plt.show()"
   ]
  },
  {
   "cell_type": "markdown",
   "id": "a9eb80be-8ae7-4ba6-9b5e-3ce59e496025",
   "metadata": {},
   "source": [
    "### 2 Outliers"
   ]
  },
  {
   "cell_type": "code",
   "execution_count": 32,
   "id": "9855cd6d-b89f-40b8-82a2-5a2e3aa60bb6",
   "metadata": {},
   "outputs": [
    {
     "name": "stdout",
     "output_type": "stream",
     "text": [
      "742      2\n",
      "743      1\n",
      "758      1\n",
      "36555    2\n",
      "37173    2\n",
      "Name: 2, dtype: int64\n"
     ]
    }
   ],
   "source": [
    "print(df['2'].head())"
   ]
  },
  {
   "cell_type": "code",
   "execution_count": 34,
   "id": "2a996279-fb8b-4825-85cd-348f84d4c0b8",
   "metadata": {},
   "outputs": [
    {
     "name": "stderr",
     "output_type": "stream",
     "text": [
      "C:\\Users\\Olivia\\AppData\\Local\\Temp\\ipykernel_11792\\1293676653.py:2: SettingWithCopyWarning: \n",
      "A value is trying to be set on a copy of a slice from a DataFrame.\n",
      "Try using .loc[row_indexer,col_indexer] = value instead\n",
      "\n",
      "See the caveats in the documentation: https://pandas.pydata.org/pandas-docs/stable/user_guide/indexing.html#returning-a-view-versus-a-copy\n",
      "  df['2'] = pd.to_numeric(df['2'], errors='coerce')\n"
     ]
    },
    {
     "data": {
      "image/png": "[encoded data removed]",
      "text/plain": [
       "<Figure size 640x480 with 1 Axes>"
      ]
     },
     "metadata": {},
     "output_type": "display_data"
    }
   ],
   "source": [
    "# Identifying outliers in a numerical column\n",
    "df['2'] = pd.to_numeric(df['2'], errors='coerce')\n",
    "df = df.dropna(subset=['2'])\n",
    "plt.rcParams['font.family'] = 'Arial' # match all of the fonts if not done already\n",
    "sns.boxplot(x=df['2'])\n",
    "plt.show()"
   ]
  },
  {
   "cell_type": "markdown",
   "id": "45b7fd9d-5772-4375-9ad7-a8f1c15a25fa",
   "metadata": {},
   "source": [
    "### Great_CD_2 Outliers"
   ]
  },
  {
   "cell_type": "code",
   "execution_count": 38,
   "id": "deba68ec-7dae-40b7-8825-07cbe3b023e7",
   "metadata": {},
   "outputs": [
    {
     "ename": "KeyError",
     "evalue": "'Great_CD_2'",
     "output_type": "error",
     "traceback": [
      "\u001b[1;31m---------------------------------------------------------------------------\u001b[0m",
      "\u001b[1;31mKeyError\u001b[0m                                  Traceback (most recent call last)",
      "File \u001b[1;32mF:\\anacondaForSchool\\Lib\\site-packages\\pandas\\core\\indexes\\base.py:3805\u001b[0m, in \u001b[0;36mIndex.get_loc\u001b[1;34m(self, key)\u001b[0m\n\u001b[0;32m   3804\u001b[0m \u001b[38;5;28;01mtry\u001b[39;00m:\n\u001b[1;32m-> 3805\u001b[0m     \u001b[38;5;28;01mreturn\u001b[39;00m \u001b[38;5;28mself\u001b[39m\u001b[38;5;241m.\u001b[39m_engine\u001b[38;5;241m.\u001b[39mget_loc(casted_key)\n\u001b[0;32m   3806\u001b[0m \u001b[38;5;28;01mexcept\u001b[39;00m \u001b[38;5;167;01mKeyError\u001b[39;00m \u001b[38;5;28;01mas\u001b[39;00m err:\n",
      "File \u001b[1;32mindex.pyx:167\u001b[0m, in \u001b[0;36mpandas._libs.index.IndexEngine.get_loc\u001b[1;34m()\u001b[0m\n",
      "File \u001b[1;32mindex.pyx:196\u001b[0m, in \u001b[0;36mpandas._libs.index.IndexEngine.get_loc\u001b[1;34m()\u001b[0m\n",
      "File \u001b[1;32mpandas\\\\_libs\\\\hashtable_class_helper.pxi:7081\u001b[0m, in \u001b[0;36mpandas._libs.hashtable.PyObjectHashTable.get_item\u001b[1;34m()\u001b[0m\n",
      "File \u001b[1;32mpandas\\\\_libs\\\\hashtable_class_helper.pxi:7089\u001b[0m, in \u001b[0;36mpandas._libs.hashtable.PyObjectHashTable.get_item\u001b[1;34m()\u001b[0m\n",
      "\u001b[1;31mKeyError\u001b[0m: 'Great_CD_2'",
      "\nThe above exception was the direct cause of the following exception:\n",
      "\u001b[1;31mKeyError\u001b[0m                                  Traceback (most recent call last)",
      "Cell \u001b[1;32mIn[38], line 1\u001b[0m\n\u001b[1;32m----> 1\u001b[0m \u001b[38;5;28mprint\u001b[39m(df[\u001b[38;5;124m'\u001b[39m\u001b[38;5;124mGreat_CD_2\u001b[39m\u001b[38;5;124m'\u001b[39m]\u001b[38;5;241m.\u001b[39mhead())\n",
      "File \u001b[1;32mF:\\anacondaForSchool\\Lib\\site-packages\\pandas\\core\\frame.py:4102\u001b[0m, in \u001b[0;36mDataFrame.__getitem__\u001b[1;34m(self, key)\u001b[0m\n\u001b[0;32m   4100\u001b[0m \u001b[38;5;28;01mif\u001b[39;00m \u001b[38;5;28mself\u001b[39m\u001b[38;5;241m.\u001b[39mcolumns\u001b[38;5;241m.\u001b[39mnlevels \u001b[38;5;241m>\u001b[39m \u001b[38;5;241m1\u001b[39m:\n\u001b[0;32m   4101\u001b[0m     \u001b[38;5;28;01mreturn\u001b[39;00m \u001b[38;5;28mself\u001b[39m\u001b[38;5;241m.\u001b[39m_getitem_multilevel(key)\n\u001b[1;32m-> 4102\u001b[0m indexer \u001b[38;5;241m=\u001b[39m \u001b[38;5;28mself\u001b[39m\u001b[38;5;241m.\u001b[39mcolumns\u001b[38;5;241m.\u001b[39mget_loc(key)\n\u001b[0;32m   4103\u001b[0m \u001b[38;5;28;01mif\u001b[39;00m is_integer(indexer):\n\u001b[0;32m   4104\u001b[0m     indexer \u001b[38;5;241m=\u001b[39m [indexer]\n",
      "File \u001b[1;32mF:\\anacondaForSchool\\Lib\\site-packages\\pandas\\core\\indexes\\base.py:3812\u001b[0m, in \u001b[0;36mIndex.get_loc\u001b[1;34m(self, key)\u001b[0m\n\u001b[0;32m   3807\u001b[0m     \u001b[38;5;28;01mif\u001b[39;00m \u001b[38;5;28misinstance\u001b[39m(casted_key, \u001b[38;5;28mslice\u001b[39m) \u001b[38;5;129;01mor\u001b[39;00m (\n\u001b[0;32m   3808\u001b[0m         \u001b[38;5;28misinstance\u001b[39m(casted_key, abc\u001b[38;5;241m.\u001b[39mIterable)\n\u001b[0;32m   3809\u001b[0m         \u001b[38;5;129;01mand\u001b[39;00m \u001b[38;5;28many\u001b[39m(\u001b[38;5;28misinstance\u001b[39m(x, \u001b[38;5;28mslice\u001b[39m) \u001b[38;5;28;01mfor\u001b[39;00m x \u001b[38;5;129;01min\u001b[39;00m casted_key)\n\u001b[0;32m   3810\u001b[0m     ):\n\u001b[0;32m   3811\u001b[0m         \u001b[38;5;28;01mraise\u001b[39;00m InvalidIndexError(key)\n\u001b[1;32m-> 3812\u001b[0m     \u001b[38;5;28;01mraise\u001b[39;00m \u001b[38;5;167;01mKeyError\u001b[39;00m(key) \u001b[38;5;28;01mfrom\u001b[39;00m \u001b[38;5;21;01merr\u001b[39;00m\n\u001b[0;32m   3813\u001b[0m \u001b[38;5;28;01mexcept\u001b[39;00m \u001b[38;5;167;01mTypeError\u001b[39;00m:\n\u001b[0;32m   3814\u001b[0m     \u001b[38;5;66;03m# If we have a listlike key, _check_indexing_error will raise\u001b[39;00m\n\u001b[0;32m   3815\u001b[0m     \u001b[38;5;66;03m#  InvalidIndexError. Otherwise we fall through and re-raise\u001b[39;00m\n\u001b[0;32m   3816\u001b[0m     \u001b[38;5;66;03m#  the TypeError.\u001b[39;00m\n\u001b[0;32m   3817\u001b[0m     \u001b[38;5;28mself\u001b[39m\u001b[38;5;241m.\u001b[39m_check_indexing_error(key)\n",
      "\u001b[1;31mKeyError\u001b[0m: 'Great_CD_2'"
     ]
    }
   ],
   "source": [
    "print(df['Great_CD_review'].head())"
   ]
  },
  {
   "cell_type": "code",
   "execution_count": 40,
   "id": "81791725-b13b-4bb9-89f1-60b99ab00b03",
   "metadata": {},
   "outputs": [
    {
     "ename": "KeyError",
     "evalue": "'Great_CD_2'",
     "output_type": "error",
     "traceback": [
      "\u001b[1;31m---------------------------------------------------------------------------\u001b[0m",
      "\u001b[1;31mKeyError\u001b[0m                                  Traceback (most recent call last)",
      "File \u001b[1;32mF:\\anacondaForSchool\\Lib\\site-packages\\pandas\\core\\indexes\\base.py:3805\u001b[0m, in \u001b[0;36mIndex.get_loc\u001b[1;34m(self, key)\u001b[0m\n\u001b[0;32m   3804\u001b[0m \u001b[38;5;28;01mtry\u001b[39;00m:\n\u001b[1;32m-> 3805\u001b[0m     \u001b[38;5;28;01mreturn\u001b[39;00m \u001b[38;5;28mself\u001b[39m\u001b[38;5;241m.\u001b[39m_engine\u001b[38;5;241m.\u001b[39mget_loc(casted_key)\n\u001b[0;32m   3806\u001b[0m \u001b[38;5;28;01mexcept\u001b[39;00m \u001b[38;5;167;01mKeyError\u001b[39;00m \u001b[38;5;28;01mas\u001b[39;00m err:\n",
      "File \u001b[1;32mindex.pyx:167\u001b[0m, in \u001b[0;36mpandas._libs.index.IndexEngine.get_loc\u001b[1;34m()\u001b[0m\n",
      "File \u001b[1;32mindex.pyx:196\u001b[0m, in \u001b[0;36mpandas._libs.index.IndexEngine.get_loc\u001b[1;34m()\u001b[0m\n",
      "File \u001b[1;32mpandas\\\\_libs\\\\hashtable_class_helper.pxi:7081\u001b[0m, in \u001b[0;36mpandas._libs.hashtable.PyObjectHashTable.get_item\u001b[1;34m()\u001b[0m\n",
      "File \u001b[1;32mpandas\\\\_libs\\\\hashtable_class_helper.pxi:7089\u001b[0m, in \u001b[0;36mpandas._libs.hashtable.PyObjectHashTable.get_item\u001b[1;34m()\u001b[0m\n",
      "\u001b[1;31mKeyError\u001b[0m: 'Great_CD_2'",
      "\nThe above exception was the direct cause of the following exception:\n",
      "\u001b[1;31mKeyError\u001b[0m                                  Traceback (most recent call last)",
      "Cell \u001b[1;32mIn[40], line 2\u001b[0m\n\u001b[0;32m      1\u001b[0m \u001b[38;5;66;03m# Identifying outliers in a numerical column\u001b[39;00m\n\u001b[1;32m----> 2\u001b[0m df[\u001b[38;5;124m'\u001b[39m\u001b[38;5;124mGreat_CD_2\u001b[39m\u001b[38;5;124m'\u001b[39m] \u001b[38;5;241m=\u001b[39m pd\u001b[38;5;241m.\u001b[39mto_numeric(df[\u001b[38;5;124m'\u001b[39m\u001b[38;5;124mGreat_CD_2\u001b[39m\u001b[38;5;124m'\u001b[39m], errors\u001b[38;5;241m=\u001b[39m\u001b[38;5;124m'\u001b[39m\u001b[38;5;124mcoerce\u001b[39m\u001b[38;5;124m'\u001b[39m)\n\u001b[0;32m      3\u001b[0m df \u001b[38;5;241m=\u001b[39m df\u001b[38;5;241m.\u001b[39mdropna(subset\u001b[38;5;241m=\u001b[39m[\u001b[38;5;124m'\u001b[39m\u001b[38;5;124mGreat_CD_2\u001b[39m\u001b[38;5;124m'\u001b[39m])\n\u001b[0;32m      4\u001b[0m plt\u001b[38;5;241m.\u001b[39mrcParams[\u001b[38;5;124m'\u001b[39m\u001b[38;5;124mfont.family\u001b[39m\u001b[38;5;124m'\u001b[39m] \u001b[38;5;241m=\u001b[39m \u001b[38;5;124m'\u001b[39m\u001b[38;5;124mArial\u001b[39m\u001b[38;5;124m'\u001b[39m \u001b[38;5;66;03m# match all of the fonts if not done already\u001b[39;00m\n",
      "File \u001b[1;32mF:\\anacondaForSchool\\Lib\\site-packages\\pandas\\core\\frame.py:4102\u001b[0m, in \u001b[0;36mDataFrame.__getitem__\u001b[1;34m(self, key)\u001b[0m\n\u001b[0;32m   4100\u001b[0m \u001b[38;5;28;01mif\u001b[39;00m \u001b[38;5;28mself\u001b[39m\u001b[38;5;241m.\u001b[39mcolumns\u001b[38;5;241m.\u001b[39mnlevels \u001b[38;5;241m>\u001b[39m \u001b[38;5;241m1\u001b[39m:\n\u001b[0;32m   4101\u001b[0m     \u001b[38;5;28;01mreturn\u001b[39;00m \u001b[38;5;28mself\u001b[39m\u001b[38;5;241m.\u001b[39m_getitem_multilevel(key)\n\u001b[1;32m-> 4102\u001b[0m indexer \u001b[38;5;241m=\u001b[39m \u001b[38;5;28mself\u001b[39m\u001b[38;5;241m.\u001b[39mcolumns\u001b[38;5;241m.\u001b[39mget_loc(key)\n\u001b[0;32m   4103\u001b[0m \u001b[38;5;28;01mif\u001b[39;00m is_integer(indexer):\n\u001b[0;32m   4104\u001b[0m     indexer \u001b[38;5;241m=\u001b[39m [indexer]\n",
      "File \u001b[1;32mF:\\anacondaForSchool\\Lib\\site-packages\\pandas\\core\\indexes\\base.py:3812\u001b[0m, in \u001b[0;36mIndex.get_loc\u001b[1;34m(self, key)\u001b[0m\n\u001b[0;32m   3807\u001b[0m     \u001b[38;5;28;01mif\u001b[39;00m \u001b[38;5;28misinstance\u001b[39m(casted_key, \u001b[38;5;28mslice\u001b[39m) \u001b[38;5;129;01mor\u001b[39;00m (\n\u001b[0;32m   3808\u001b[0m         \u001b[38;5;28misinstance\u001b[39m(casted_key, abc\u001b[38;5;241m.\u001b[39mIterable)\n\u001b[0;32m   3809\u001b[0m         \u001b[38;5;129;01mand\u001b[39;00m \u001b[38;5;28many\u001b[39m(\u001b[38;5;28misinstance\u001b[39m(x, \u001b[38;5;28mslice\u001b[39m) \u001b[38;5;28;01mfor\u001b[39;00m x \u001b[38;5;129;01min\u001b[39;00m casted_key)\n\u001b[0;32m   3810\u001b[0m     ):\n\u001b[0;32m   3811\u001b[0m         \u001b[38;5;28;01mraise\u001b[39;00m InvalidIndexError(key)\n\u001b[1;32m-> 3812\u001b[0m     \u001b[38;5;28;01mraise\u001b[39;00m \u001b[38;5;167;01mKeyError\u001b[39;00m(key) \u001b[38;5;28;01mfrom\u001b[39;00m \u001b[38;5;21;01merr\u001b[39;00m\n\u001b[0;32m   3813\u001b[0m \u001b[38;5;28;01mexcept\u001b[39;00m \u001b[38;5;167;01mTypeError\u001b[39;00m:\n\u001b[0;32m   3814\u001b[0m     \u001b[38;5;66;03m# If we have a listlike key, _check_indexing_error will raise\u001b[39;00m\n\u001b[0;32m   3815\u001b[0m     \u001b[38;5;66;03m#  InvalidIndexError. Otherwise we fall through and re-raise\u001b[39;00m\n\u001b[0;32m   3816\u001b[0m     \u001b[38;5;66;03m#  the TypeError.\u001b[39;00m\n\u001b[0;32m   3817\u001b[0m     \u001b[38;5;28mself\u001b[39m\u001b[38;5;241m.\u001b[39m_check_indexing_error(key)\n",
      "\u001b[1;31mKeyError\u001b[0m: 'Great_CD_2'"
     ]
    }
   ],
   "source": [
    "# Identifying outliers in a numerical column\n",
    "df['Great_CD_review'] = pd.to_numeric(df['Great_CD_review'], errors='coerce')\n",
    "df = df.dropna(subset=['Great_CD_review'])\n",
    "plt.rcParams['font.family'] = 'Arial' # match all of the fonts if not done already\n",
    "sns.boxplot(x=df['Great_CD_review'])\n",
    "plt.show()"
   ]
  },
  {
   "cell_type": "code",
   "execution_count": 46,
   "id": "20e369c2-8f39-4fdc-a5a2-55bbbe8490e2",
   "metadata": {},
   "outputs": [],
   "source": [
    "# Removing all of the outliers using the IQR method\n",
    "Q1 = df['Great CD'].quantile(0.25)\n",
    "Q3 = df['Great CD'].quantile(0.75)\n",
    "IQR = Q3 - Q1\n",
    "lower_bound = Q1 - 1.5 * IQR\n",
    "upper_bound = Q3 + 1.5 * IQR\n",
    "df = df[(df['Great CD'] >= lower_bound) & (df['Great CD'] <= upper_bound)]"
   ]
  },
  {
   "cell_type": "code",
   "execution_count": 48,
   "id": "6e3ac89e-7f61-409f-a0e4-a164f97632e1",
   "metadata": {},
   "outputs": [],
   "source": [
    "# Removing all of the outliers using the IQR method\n",
    "Q1 = df['2'].quantile(0.25)\n",
    "Q3 = df['2'].quantile(0.75)\n",
    "IQR = Q3 - Q1\n",
    "lower_bound = Q1 - 1.5 * IQR\n",
    "upper_bound = Q3 + 1.5 * IQR\n",
    "df = df[(df['2'] >= lower_bound) & (df['2'] <= upper_bound)]"
   ]
  },
  {
   "cell_type": "code",
   "execution_count": null,
   "id": "de498c22-75bd-4036-b6bc-a675eb9483a0",
   "metadata": {},
   "outputs": [],
   "source": [
    "# Removing all of the outliers using the IQR method\n",
    "Q1 = df['Great_CD_2'].quantile(0.25)\n",
    "Q3 = df['2'].quantile(0.75)\n",
    "IQR = Q3 - Q1\n",
    "lower_bound = Q1 - 1.5 * IQR\n",
    "upper_bound = Q3 + 1.5 * IQR\n",
    "df = df[(df['2'] >= lower_bound) & (df['2'] <= upper_bound)]"
   ]
  },
  {
   "cell_type": "code",
   "execution_count": null,
   "id": "865e4560-8942-441c-bac1-6af93545b027",
   "metadata": {},
   "outputs": [],
   "source": [
    "# Renaming columns for consistency\n",
    "df.columns = df.columns.str.lower().str.replace(' ', '_')"
   ]
  },
  {
   "cell_type": "code",
   "execution_count": null,
   "id": "422c88f4-7622-493f-9766-e23201ee42b2",
   "metadata": {},
   "outputs": [],
   "source": [
    "# Check the first few rows after cleaning\n",
    "print(\"\\nDataset after cleaning:\")\n",
    "print(df.head())"
   ]
  }
 ],
 "metadata": {
  "kernelspec": {
   "display_name": "Python 3 (ipykernel)",
   "language": "python",
   "name": "python3"
  },
  "language_info": {
   "codemirror_mode": {
    "name": "ipython",
    "version": 3
   },
   "file_extension": ".py",
   "mimetype": "text/x-python",
   "name": "python",
   "nbconvert_exporter": "python",
   "pygments_lexer": "ipython3",
   "version": "3.12.7"
  }
 },
 "nbformat": 4,
 "nbformat_minor": 5
}
