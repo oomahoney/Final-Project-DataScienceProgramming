{
 "cells": [
  {
   "cell_type": "markdown",
   "id": "e23c55d7-89de-43ed-9889-6963ddb39c9c",
   "metadata": {},
   "source": [
    "# Final Project\n",
    "## Milestone 2\n",
    "#### Olivia O'Mahoney\n",
    "#### 12/2/2024"
   ]
  },
  {
   "cell_type": "code",
   "execution_count": 33,
   "id": "fe37172e-987d-4fd4-a398-1552d3d5367b",
   "metadata": {},
   "outputs": [
    {
     "name": "stdout",
     "output_type": "stream",
     "text": [
      "Requirement already satisfied: nltk in f:\\anacondaforschool\\lib\\site-packages (3.9.1)\n",
      "Requirement already satisfied: click in f:\\anacondaforschool\\lib\\site-packages (from nltk) (8.1.7)\n",
      "Requirement already satisfied: joblib in f:\\anacondaforschool\\lib\\site-packages (from nltk) (1.4.2)\n",
      "Requirement already satisfied: regex>=2021.8.3 in f:\\anacondaforschool\\lib\\site-packages (from nltk) (2024.9.11)\n",
      "Requirement already satisfied: tqdm in f:\\anacondaforschool\\lib\\site-packages (from nltk) (4.66.5)\n",
      "Requirement already satisfied: colorama in f:\\anacondaforschool\\lib\\site-packages (from click->nltk) (0.4.6)\n"
     ]
    }
   ],
   "source": [
    "# Installs\n",
    "!pip install nltk\n",
    "# Imports\n",
    "import numpy as np\n",
    "import pandas as pd\n",
    "import matplotlib.pyplot as plt\n",
    "import seaborn as sns\n",
    "import os\n",
    "import nltk"
   ]
  },
  {
   "cell_type": "code",
   "execution_count": 41,
   "id": "9ce7a617-563b-4dfc-90f3-982ebfe1e11f",
   "metadata": {},
   "outputs": [
    {
     "name": "stderr",
     "output_type": "stream",
     "text": [
      "[nltk_data] Downloading package punkt_tab to\n",
      "[nltk_data]     C:\\Users\\Olivia\\AppData\\Roaming\\nltk_data...\n",
      "[nltk_data]   Package punkt_tab is already up-to-date!\n",
      "[nltk_data] Downloading package brown to\n",
      "[nltk_data]     C:\\Users\\Olivia\\AppData\\Roaming\\nltk_data...\n",
      "[nltk_data]   Package brown is already up-to-date!\n",
      "[nltk_data] Downloading package movie_reviews to\n",
      "[nltk_data]     C:\\Users\\Olivia\\AppData\\Roaming\\nltk_data...\n",
      "[nltk_data]   Package movie_reviews is already up-to-date!\n",
      "[nltk_data] Downloading package wordnet to\n",
      "[nltk_data]     C:\\Users\\Olivia\\AppData\\Roaming\\nltk_data...\n",
      "[nltk_data]   Package wordnet is already up-to-date!\n",
      "[nltk_data] Downloading package stopwords to\n",
      "[nltk_data]     C:\\Users\\Olivia\\AppData\\Roaming\\nltk_data...\n",
      "[nltk_data]   Package stopwords is already up-to-date!\n"
     ]
    },
    {
     "data": {
      "text/plain": [
       "True"
      ]
     },
     "execution_count": 41,
     "metadata": {},
     "output_type": "execute_result"
    }
   ],
   "source": [
    "nltk.download('punkt_tab')  #a sentence tokenizer with parts of speech taggers\n",
    "nltk.download('brown') # the corpora created in the 1960's at Brown University\n",
    "nltk.download('movie_reviews')  # movie review text\n",
    "nltk.download('wordnet')  #used for word definitions, synonyms\n",
    "nltk.download('stopwords') # a predefined list of stopwords (in English, by default)"
   ]
  },
  {
   "cell_type": "code",
   "execution_count": 47,
   "id": "2a88a3f7-7126-4e77-8cc6-31143ac75859",
   "metadata": {},
   "outputs": [
    {
     "name": "stdout",
     "output_type": "stream",
     "text": [
      "C:\\Users\\Olivia\\Downloads\\test.csv\n",
      "True\n"
     ]
    }
   ],
   "source": [
    "file = r\"C:\\Users\\Olivia\\Downloads\\test.csv\"\n",
    "print(file)\n",
    "print(os.path.exists(file))"
   ]
  },
  {
   "cell_type": "code",
   "execution_count": 49,
   "id": "3f5ee67c-8ee2-4c66-9650-5bdc96b9b901",
   "metadata": {},
   "outputs": [
    {
     "name": "stdout",
     "output_type": "stream",
     "text": [
      "   2                                           Great CD  \\\n",
      "0  2  One of the best game music soundtracks - for a...   \n",
      "1  1                   Batteries died within a year ...   \n",
      "2  2              works fine, but Maha Energy is better   \n",
      "3  2                       Great for the non-audiophile   \n",
      "4  1              DVD Player crapped out after one year   \n",
      "\n",
      "  My lovely Pat has one of the GREAT voices of her generation. I have listened to this CD for YEARS and I still LOVE IT. When I'm in a good mood it makes me feel better. A bad mood just evaporates like sugar in the rain. This CD just oozes LIFE. Vocals are jusat STUUNNING and lyrics just kill. One of life's hidden gems. This is a desert isle CD in my book. Why she never made it big is just beyond me. Everytime I play this, no matter black, white, young, old, male, female EVERYBODY says one thing \"Who was that singing ?\"  \n",
      "0  Despite the fact that I have only played a sma...                                                                                                                                                                                                                                                                                                                                                                                                                                                                                           \n",
      "1  I bought this charger in Jul 2003 and it worke...                                                                                                                                                                                                                                                                                                                                                                                                                                                                                           \n",
      "2  Check out Maha Energy's website. Their Powerex...                                                                                                                                                                                                                                                                                                                                                                                                                                                                                           \n",
      "3  Reviewed quite a bit of the combo players and ...                                                                                                                                                                                                                                                                                                                                                                                                                                                                                           \n",
      "4  I also began having the incorrect disc problem...                                                                                                                                                                                                                                                                                                                                                                                                                                                                                           \n"
     ]
    }
   ],
   "source": [
    "try:\n",
    "    df = pd.read_csv(file, encoding='ISO-8859-1')\n",
    "    print(df.head())\n",
    "except PermissionError as e:\n",
    "    print(f\"PermissionError: {e}\")"
   ]
  },
  {
   "cell_type": "markdown",
   "id": "adb9b9f6-8c9a-46de-a5d2-e00460815c96",
   "metadata": {},
   "source": [
    "## Exploring the Data"
   ]
  },
  {
   "cell_type": "code",
   "execution_count": 52,
   "id": "b081a44b-6275-4a88-a18a-2a310942b4ae",
   "metadata": {},
   "outputs": [
    {
     "name": "stdout",
     "output_type": "stream",
     "text": [
      "Basic Info:\n",
      "<class 'pandas.core.frame.DataFrame'>\n",
      "RangeIndex: 399999 entries, 0 to 399998\n",
      "Data columns (total 3 columns):\n",
      " #   Column                                                                                                                                                                                                                                                                                                                                                                                                                                                                                                                                       Non-Null Count   Dtype \n",
      "---  ------                                                                                                                                                                                                                                                                                                                                                                                                                                                                                                                                       --------------   ----- \n",
      " 0   2                                                                                                                                                                                                                                                                                                                                                                                                                                                                                                                                            399999 non-null  int64 \n",
      " 1   Great CD                                                                                                                                                                                                                                                                                                                                                                                                                                                                                                                                     399975 non-null  object\n",
      " 2   My lovely Pat has one of the GREAT voices of her generation. I have listened to this CD for YEARS and I still LOVE IT. When I'm in a good mood it makes me feel better. A bad mood just evaporates like sugar in the rain. This CD just oozes LIFE. Vocals are jusat STUUNNING and lyrics just kill. One of life's hidden gems. This is a desert isle CD in my book. Why she never made it big is just beyond me. Everytime I play this, no matter black, white, young, old, male, female EVERYBODY says one thing \"Who was that singing ?\"  399999 non-null  object\n",
      "dtypes: int64(1), object(2)\n",
      "memory usage: 9.2+ MB\n"
     ]
    }
   ],
   "source": [
    "# Print the Basic Information of the Dataset CSV\n",
    "print(\"Basic Info:\")\n",
    "df.info()"
   ]
  },
  {
   "cell_type": "code",
   "execution_count": 54,
   "id": "292b26b8-a65a-4f02-ae18-41c0dd655ac9",
   "metadata": {},
   "outputs": [
    {
     "name": "stdout",
     "output_type": "stream",
     "text": [
      "\n",
      "First 9 rows:\n",
      "   2                                           Great CD  \\\n",
      "0  2  One of the best game music soundtracks - for a...   \n",
      "1  1                   Batteries died within a year ...   \n",
      "2  2              works fine, but Maha Energy is better   \n",
      "3  2                       Great for the non-audiophile   \n",
      "4  1              DVD Player crapped out after one year   \n",
      "5  1                                     Incorrect Disc   \n",
      "6  1                           DVD menu select problems   \n",
      "7  2            Unique Weird Orientalia from the 1930's   \n",
      "8  1                            Not an \"ultimate guide\"   \n",
      "\n",
      "  My lovely Pat has one of the GREAT voices of her generation. I have listened to this CD for YEARS and I still LOVE IT. When I'm in a good mood it makes me feel better. A bad mood just evaporates like sugar in the rain. This CD just oozes LIFE. Vocals are jusat STUUNNING and lyrics just kill. One of life's hidden gems. This is a desert isle CD in my book. Why she never made it big is just beyond me. Everytime I play this, no matter black, white, young, old, male, female EVERYBODY says one thing \"Who was that singing ?\"  \n",
      "0  Despite the fact that I have only played a sma...                                                                                                                                                                                                                                                                                                                                                                                                                                                                                           \n",
      "1  I bought this charger in Jul 2003 and it worke...                                                                                                                                                                                                                                                                                                                                                                                                                                                                                           \n",
      "2  Check out Maha Energy's website. Their Powerex...                                                                                                                                                                                                                                                                                                                                                                                                                                                                                           \n",
      "3  Reviewed quite a bit of the combo players and ...                                                                                                                                                                                                                                                                                                                                                                                                                                                                                           \n",
      "4  I also began having the incorrect disc problem...                                                                                                                                                                                                                                                                                                                                                                                                                                                                                           \n",
      "5  I love the style of this, but after a couple y...                                                                                                                                                                                                                                                                                                                                                                                                                                                                                           \n",
      "6  I cannot scroll through a DVD menu that is set...                                                                                                                                                                                                                                                                                                                                                                                                                                                                                           \n",
      "7  Exotic tales of the Orient from the 1930's. \"D...                                                                                                                                                                                                                                                                                                                                                                                                                                                                                           \n",
      "8  Firstly,I enjoyed the format and tone of the b...                                                                                                                                                                                                                                                                                                                                                                                                                                                                                           \n"
     ]
    }
   ],
   "source": [
    "# Print the first 9 rows of the Dataset CSV\n",
    "print(\"\\nFirst 9 rows:\")\n",
    "print(df.head(9))"
   ]
  },
  {
   "cell_type": "code",
   "execution_count": 56,
   "id": "d83fb006-e7dc-49a8-a68d-6bd01af047da",
   "metadata": {},
   "outputs": [
    {
     "name": "stdout",
     "output_type": "stream",
     "text": [
      "\n",
      "Last 5 rows:\n",
      "        2                         Great CD  \\\n",
      "399994  1       Unbelievable- In a Bad Way   \n",
      "399995  1  Almost Great, Until it Broke...   \n",
      "399996  1                 Disappointed !!!   \n",
      "399997  2          Classic Jessica Mitford   \n",
      "399998  1      Comedy Scene, and Not Heard   \n",
      "\n",
      "       My lovely Pat has one of the GREAT voices of her generation. I have listened to this CD for YEARS and I still LOVE IT. When I'm in a good mood it makes me feel better. A bad mood just evaporates like sugar in the rain. This CD just oozes LIFE. Vocals are jusat STUUNNING and lyrics just kill. One of life's hidden gems. This is a desert isle CD in my book. Why she never made it big is just beyond me. Everytime I play this, no matter black, white, young, old, male, female EVERYBODY says one thing \"Who was that singing ?\"  \n",
      "399994  We bought this Thomas for our son who is a hug...                                                                                                                                                                                                                                                                                                                                                                                                                                                                                           \n",
      "399995  My son recieved this as a birthday gift 2 mont...                                                                                                                                                                                                                                                                                                                                                                                                                                                                                           \n",
      "399996  I bought this toy for my son who loves the \"Th...                                                                                                                                                                                                                                                                                                                                                                                                                                                                                           \n",
      "399997  This is a compilation of a wide range of Mitfo...                                                                                                                                                                                                                                                                                                                                                                                                                                                                                           \n",
      "399998  This DVD will be a disappointment if you get i...                                                                                                                                                                                                                                                                                                                                                                                                                                                                                           \n"
     ]
    }
   ],
   "source": [
    "# Print the last five rows of the Dataset CSV\n",
    "print(\"\\nLast 5 rows:\")\n",
    "print(df.tail())"
   ]
  },
  {
   "cell_type": "code",
   "execution_count": 58,
   "id": "f5a39c65-1f8d-402a-8b6b-0e945ae73ae4",
   "metadata": {},
   "outputs": [
    {
     "name": "stdout",
     "output_type": "stream",
     "text": [
      "\n",
      "Random sample of rows:\n",
      "        2                                           Great CD  \\\n",
      "315758  1             This could have been a good book...but   \n",
      "325365  1                                        bad battery   \n",
      "237045  2  Packed with references, scientific studies, an...   \n",
      "232470  1               Not as good as the first one, but...   \n",
      "150240  2      Outstanding for 17\" x 22\" large format prints   \n",
      "\n",
      "       My lovely Pat has one of the GREAT voices of her generation. I have listened to this CD for YEARS and I still LOVE IT. When I'm in a good mood it makes me feel better. A bad mood just evaporates like sugar in the rain. This CD just oozes LIFE. Vocals are jusat STUUNNING and lyrics just kill. One of life's hidden gems. This is a desert isle CD in my book. Why she never made it big is just beyond me. Everytime I play this, no matter black, white, young, old, male, female EVERYBODY says one thing \"Who was that singing ?\"  \n",
      "315758  After a quick survey I chose this book as the ...                                                                                                                                                                                                                                                                                                                                                                                                                                                                                           \n",
      "325365  I bought a pack of two batterys and the first ...                                                                                                                                                                                                                                                                                                                                                                                                                                                                                           \n",
      "237045  I hate to see \"healing\" in a book title. I exp...                                                                                                                                                                                                                                                                                                                                                                                                                                                                                           \n",
      "232470  I loved the first film in the series. I did no...                                                                                                                                                                                                                                                                                                                                                                                                                                                                                           \n",
      "150240  I bought this printer because I wanted to prin...                                                                                                                                                                                                                                                                                                                                                                                                                                                                                           \n"
     ]
    }
   ],
   "source": [
    "# Samply 5 random rows from the Dataset \n",
    "print(\"\\nRandom sample of rows:\")\n",
    "print(df.sample(5))"
   ]
  },
  {
   "cell_type": "code",
   "execution_count": 60,
   "id": "e8afe2ce-5b51-44c5-9db6-2e344c8c0ab5",
   "metadata": {},
   "outputs": [
    {
     "name": "stdout",
     "output_type": "stream",
     "text": [
      "\n",
      "Columns in the dataset:\n",
      "Index(['2', 'Great CD',\n",
      "       'My lovely Pat has one of the GREAT voices of her generation. I have listened to this CD for YEARS and I still LOVE IT. When I'm in a good mood it makes me feel better. A bad mood just evaporates like sugar in the rain. This CD just oozes LIFE. Vocals are jusat STUUNNING and lyrics just kill. One of life's hidden gems. This is a desert isle CD in my book. Why she never made it big is just beyond me. Everytime I play this, no matter black, white, young, old, male, female EVERYBODY says one thing \"Who was that singing ?\"'],\n",
      "      dtype='object')\n"
     ]
    }
   ],
   "source": [
    "print(\"\\nColumns in the dataset:\")\n",
    "print(df.columns)"
   ]
  },
  {
   "cell_type": "code",
   "execution_count": 62,
   "id": "b07d1fee-9bd6-421f-9274-ff34ce8ba62e",
   "metadata": {},
   "outputs": [
    {
     "name": "stdout",
     "output_type": "stream",
     "text": [
      "\n",
      "Shape of the dataset (rows, columns):\n",
      "(399999, 3)\n"
     ]
    }
   ],
   "source": [
    "print(\"\\nShape of the dataset (rows, columns):\")\n",
    "print(df.shape)"
   ]
  },
  {
   "cell_type": "code",
   "execution_count": 64,
   "id": "6ea700d2-be7b-4c18-a273-6e9e6795f923",
   "metadata": {},
   "outputs": [
    {
     "name": "stdout",
     "output_type": "stream",
     "text": [
      "\n",
      "Data types of each column:\n",
      "2                                                                                                                                                                                                                                                                                                                                                                                                                                                                                                                                               int64\n",
      "Great CD                                                                                                                                                                                                                                                                                                                                                                                                                                                                                                                                       object\n",
      "My lovely Pat has one of the GREAT voices of her generation. I have listened to this CD for YEARS and I still LOVE IT. When I'm in a good mood it makes me feel better. A bad mood just evaporates like sugar in the rain. This CD just oozes LIFE. Vocals are jusat STUUNNING and lyrics just kill. One of life's hidden gems. This is a desert isle CD in my book. Why she never made it big is just beyond me. Everytime I play this, no matter black, white, young, old, male, female EVERYBODY says one thing \"Who was that singing ?\"    object\n",
      "dtype: object\n"
     ]
    }
   ],
   "source": [
    "print(\"\\nData types of each column:\")\n",
    "print(df.dtypes)"
   ]
  },
  {
   "cell_type": "code",
   "execution_count": 66,
   "id": "500e543d-7bf4-4f6b-a3e2-83e91ac64021",
   "metadata": {},
   "outputs": [
    {
     "name": "stdout",
     "output_type": "stream",
     "text": [
      "\n",
      "Statistical summary of numeric columns:\n",
      "                   2\n",
      "count  399999.000000\n",
      "mean        1.499999\n",
      "std         0.500001\n",
      "min         1.000000\n",
      "25%         1.000000\n",
      "50%         1.000000\n",
      "75%         2.000000\n",
      "max         2.000000\n"
     ]
    }
   ],
   "source": [
    "print(\"\\nStatistical summary of numeric columns:\")\n",
    "print(df.describe())"
   ]
  },
  {
   "cell_type": "code",
   "execution_count": null,
   "id": "77e50091-a017-438d-8b7b-0fbbafbd3b4c",
   "metadata": {},
   "outputs": [],
   "source": []
  },
  {
   "cell_type": "code",
   "execution_count": null,
   "id": "217034e3-1e26-4fc5-a6bf-a379514a0e8d",
   "metadata": {},
   "outputs": [],
   "source": []
  },
  {
   "cell_type": "code",
   "execution_count": null,
   "id": "da962a49-dcbb-4971-936f-2a7c5d315997",
   "metadata": {},
   "outputs": [],
   "source": []
  },
  {
   "cell_type": "code",
   "execution_count": null,
   "id": "5bd6ad1a-420f-4b51-9dc9-ae93636296db",
   "metadata": {},
   "outputs": [],
   "source": []
  }
 ],
 "metadata": {
  "kernelspec": {
   "display_name": "Python 3 (ipykernel)",
   "language": "python",
   "name": "python3"
  },
  "language_info": {
   "codemirror_mode": {
    "name": "ipython",
    "version": 3
   },
   "file_extension": ".py",
   "mimetype": "text/x-python",
   "name": "python",
   "nbconvert_exporter": "python",
   "pygments_lexer": "ipython3",
   "version": "3.12.7"
  }
 },
 "nbformat": 4,
 "nbformat_minor": 5
}
