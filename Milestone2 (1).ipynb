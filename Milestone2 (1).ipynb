{
 "cells": [
  {
   "cell_type": "markdown",
   "id": "e23c55d7-89de-43ed-9889-6963ddb39c9c",
   "metadata": {},
   "source": [
    "# Final Project\n",
    "## Milestone 2\n",
    "#### Olivia O'Mahoney\n",
    "#### 12/2/2024"
   ]
  },
  {
   "cell_type": "code",
   "execution_count": 5,
   "id": "fe37172e-987d-4fd4-a398-1552d3d5367b",
   "metadata": {},
   "outputs": [],
   "source": [
    "import numpy as np\n",
    "import pandas as pd\n",
    "import matplotlib.pyplot as plt\n",
    "import seaborn as sns\n",
    "import os"
   ]
  },
  {
   "cell_type": "code",
   "execution_count": 7,
   "id": "2a88a3f7-7126-4e77-8cc6-31143ac75859",
   "metadata": {},
   "outputs": [
    {
     "name": "stdout",
     "output_type": "stream",
     "text": [
      "C:\\Users\\Olivia\\Downloads\\spotify-2023.csv\n",
      "True\n"
     ]
    }
   ],
   "source": [
    "file = r\"C:\\Users\\Olivia\\Downloads\\spotify-2023.csv\"\n",
    "print(file)\n",
    "print(os.path.exists(file))"
   ]
  },
  {
   "cell_type": "code",
   "execution_count": 13,
   "id": "3f5ee67c-8ee2-4c66-9650-5bdc96b9b901",
   "metadata": {},
   "outputs": [],
   "source": [
    "df = pd.read_csv(file, encoding='ISO-8859-1')"
   ]
  },
  {
   "cell_type": "markdown",
   "id": "adb9b9f6-8c9a-46de-a5d2-e00460815c96",
   "metadata": {},
   "source": [
    "## Exploring the Data"
   ]
  },
  {
   "cell_type": "code",
   "execution_count": 15,
   "id": "b081a44b-6275-4a88-a18a-2a310942b4ae",
   "metadata": {},
   "outputs": [
    {
     "name": "stdout",
     "output_type": "stream",
     "text": [
      "Basic Info:\n",
      "<class 'pandas.core.frame.DataFrame'>\n",
      "RangeIndex: 953 entries, 0 to 952\n",
      "Data columns (total 24 columns):\n",
      " #   Column                Non-Null Count  Dtype \n",
      "---  ------                --------------  ----- \n",
      " 0   track_name            953 non-null    object\n",
      " 1   artist(s)_name        953 non-null    object\n",
      " 2   artist_count          953 non-null    int64 \n",
      " 3   released_year         953 non-null    int64 \n",
      " 4   released_month        953 non-null    int64 \n",
      " 5   released_day          953 non-null    int64 \n",
      " 6   in_spotify_playlists  953 non-null    int64 \n",
      " 7   in_spotify_charts     953 non-null    int64 \n",
      " 8   streams               953 non-null    object\n",
      " 9   in_apple_playlists    953 non-null    int64 \n",
      " 10  in_apple_charts       953 non-null    int64 \n",
      " 11  in_deezer_playlists   953 non-null    object\n",
      " 12  in_deezer_charts      953 non-null    int64 \n",
      " 13  in_shazam_charts      903 non-null    object\n",
      " 14  bpm                   953 non-null    int64 \n",
      " 15  key                   858 non-null    object\n",
      " 16  mode                  953 non-null    object\n",
      " 17  danceability_%        953 non-null    int64 \n",
      " 18  valence_%             953 non-null    int64 \n",
      " 19  energy_%              953 non-null    int64 \n",
      " 20  acousticness_%        953 non-null    int64 \n",
      " 21  instrumentalness_%    953 non-null    int64 \n",
      " 22  liveness_%            953 non-null    int64 \n",
      " 23  speechiness_%         953 non-null    int64 \n",
      "dtypes: int64(17), object(7)\n",
      "memory usage: 178.8+ KB\n"
     ]
    }
   ],
   "source": [
    "# Print the Basic Information of the Dataset CSV\n",
    "print(\"Basic Info:\")\n",
    "df.info()"
   ]
  },
  {
   "cell_type": "code",
   "execution_count": 17,
   "id": "292b26b8-a65a-4f02-ae18-41c0dd655ac9",
   "metadata": {},
   "outputs": [
    {
     "name": "stdout",
     "output_type": "stream",
     "text": [
      "\n",
      "First 9 rows:\n",
      "                            track_name              artist(s)_name  \\\n",
      "0  Seven (feat. Latto) (Explicit Ver.)            Latto, Jung Kook   \n",
      "1                                 LALA                 Myke Towers   \n",
      "2                              vampire              Olivia Rodrigo   \n",
      "3                         Cruel Summer                Taylor Swift   \n",
      "4                       WHERE SHE GOES                   Bad Bunny   \n",
      "5                             Sprinter           Dave, Central Cee   \n",
      "6                      Ella Baila Sola  Eslabon Armado, Peso Pluma   \n",
      "7                             Columbia                     Quevedo   \n",
      "8                             fukumean                       Gunna   \n",
      "\n",
      "   artist_count  released_year  released_month  released_day  \\\n",
      "0             2           2023               7            14   \n",
      "1             1           2023               3            23   \n",
      "2             1           2023               6            30   \n",
      "3             1           2019               8            23   \n",
      "4             1           2023               5            18   \n",
      "5             2           2023               6             1   \n",
      "6             2           2023               3            16   \n",
      "7             1           2023               7             7   \n",
      "8             1           2023               5            15   \n",
      "\n",
      "   in_spotify_playlists  in_spotify_charts    streams  in_apple_playlists  \\\n",
      "0                   553                147  141381703                  43   \n",
      "1                  1474                 48  133716286                  48   \n",
      "2                  1397                113  140003974                  94   \n",
      "3                  7858                100  800840817                 116   \n",
      "4                  3133                 50  303236322                  84   \n",
      "5                  2186                 91  183706234                  67   \n",
      "6                  3090                 50  725980112                  34   \n",
      "7                   714                 43   58149378                  25   \n",
      "8                  1096                 83   95217315                  60   \n",
      "\n",
      "   ...  bpm key   mode danceability_%  valence_% energy_% acousticness_%  \\\n",
      "0  ...  125   B  Major             80         89       83             31   \n",
      "1  ...   92  C#  Major             71         61       74              7   \n",
      "2  ...  138   F  Major             51         32       53             17   \n",
      "3  ...  170   A  Major             55         58       72             11   \n",
      "4  ...  144   A  Minor             65         23       80             14   \n",
      "5  ...  141  C#  Major             92         66       58             19   \n",
      "6  ...  148   F  Minor             67         83       76             48   \n",
      "7  ...  100   F  Major             67         26       71             37   \n",
      "8  ...  130  C#  Minor             85         22       62             12   \n",
      "\n",
      "   instrumentalness_%  liveness_%  speechiness_%  \n",
      "0                   0           8              4  \n",
      "1                   0          10              4  \n",
      "2                   0          31              6  \n",
      "3                   0          11             15  \n",
      "4                  63          11              6  \n",
      "5                   0           8             24  \n",
      "6                   0           8              3  \n",
      "7                   0          11              4  \n",
      "8                   0          28              9  \n",
      "\n",
      "[9 rows x 24 columns]\n"
     ]
    }
   ],
   "source": [
    "# Print the first 9 rows of the Dataset CSV\n",
    "print(\"\\nFirst 9 rows:\")\n",
    "print(df.head(9))"
   ]
  },
  {
   "cell_type": "code",
   "execution_count": 19,
   "id": "d83fb006-e7dc-49a8-a68d-6bd01af047da",
   "metadata": {},
   "outputs": [
    {
     "name": "stdout",
     "output_type": "stream",
     "text": [
      "\n",
      "Last 5 rows:\n",
      "                    track_name      artist(s)_name  artist_count  \\\n",
      "948               My Mind & Me        Selena Gomez             1   \n",
      "949  Bigger Than The Whole Sky        Taylor Swift             1   \n",
      "950       A Veces (feat. Feid)  Feid, Paulo Londra             2   \n",
      "951              En La De Ella  Feid, Sech, Jhayco             3   \n",
      "952                      Alone           Burna Boy             1   \n",
      "\n",
      "     released_year  released_month  released_day  in_spotify_playlists  \\\n",
      "948           2022              11             3                   953   \n",
      "949           2022              10            21                  1180   \n",
      "950           2022              11             3                   573   \n",
      "951           2022              10            20                  1320   \n",
      "952           2022              11             4                   782   \n",
      "\n",
      "     in_spotify_charts    streams  in_apple_playlists  ...  bpm key   mode  \\\n",
      "948                  0   91473363                  61  ...  144   A  Major   \n",
      "949                  0  121871870                   4  ...  166  F#  Major   \n",
      "950                  0   73513683                   2  ...   92  C#  Major   \n",
      "951                  0  133895612                  29  ...   97  C#  Major   \n",
      "952                  2   96007391                  27  ...   90   E  Minor   \n",
      "\n",
      "    danceability_%  valence_% energy_% acousticness_%  instrumentalness_%  \\\n",
      "948             60         24       39             57                   0   \n",
      "949             42          7       24             83                   1   \n",
      "950             80         81       67              4                   0   \n",
      "951             82         67       77              8                   0   \n",
      "952             61         32       67             15                   0   \n",
      "\n",
      "     liveness_%  speechiness_%  \n",
      "948           8              3  \n",
      "949          12              6  \n",
      "950           8              6  \n",
      "951          12              5  \n",
      "952          11              5  \n",
      "\n",
      "[5 rows x 24 columns]\n"
     ]
    }
   ],
   "source": [
    "# Print the last five rows of the Dataset CSV\n",
    "print(\"\\nLast 5 rows:\")\n",
    "print(df.tail())"
   ]
  },
  {
   "cell_type": "code",
   "execution_count": 21,
   "id": "f5a39c65-1f8d-402a-8b6b-0e945ae73ae4",
   "metadata": {},
   "outputs": [
    {
     "name": "stdout",
     "output_type": "stream",
     "text": [
      "\n",
      "Random sample of rows:\n",
      "                                            track_name  \\\n",
      "697             Something In The Way - Remastered 2021   \n",
      "203                                                AMG   \n",
      "495                   Run Rudolph Run - Single Version   \n",
      "817                         10 Things I Hate About You   \n",
      "265  Cupid ï¿½ï¿½ï¿½ Twin Ver. (FIFTY FIFTY) ï¿½ï¿½...   \n",
      "\n",
      "                                    artist(s)_name  artist_count  \\\n",
      "697                                        Nirvana             1   \n",
      "203  Natanael Cano, Gabito Ballesteros, Peso Pluma             3   \n",
      "495                                    Chuck Berry             1   \n",
      "817                                      Leah Kate             1   \n",
      "265                                   sped up 8282             1   \n",
      "\n",
      "     released_year  released_month  released_day  in_spotify_playlists  \\\n",
      "697           1991               9            24                  9514   \n",
      "203           2022              11            24                   995   \n",
      "495           1958               1             1                  8612   \n",
      "817           2022               3            23                  1301   \n",
      "265           1997               1             1                   472   \n",
      "\n",
      "     in_spotify_charts    streams  in_apple_playlists  ...  bpm key   mode  \\\n",
      "697                  0  368646862                  45  ...  106  G#  Major   \n",
      "203                 19  463564958                  12  ...  136   B  Minor   \n",
      "495                  0  245350949                 120  ...  152   G  Minor   \n",
      "817                  0  185550869                  23  ...  154  G#  Major   \n",
      "265                  2  103762518                   0  ...  144   F  Major   \n",
      "\n",
      "    danceability_%  valence_% energy_% acousticness_%  instrumentalness_%  \\\n",
      "697             44          8       20             74                  42   \n",
      "203             77         79       73             15                   0   \n",
      "495             69         94       71             79                   0   \n",
      "817             54         45       79              1                   0   \n",
      "265             74         75       73             42                   0   \n",
      "\n",
      "     liveness_%  speechiness_%  \n",
      "697          11              3  \n",
      "203          27             10  \n",
      "495           7              8  \n",
      "817          17              5  \n",
      "265           9              4  \n",
      "\n",
      "[5 rows x 24 columns]\n"
     ]
    }
   ],
   "source": [
    "# Samply 5 random rows from the Dataset \n",
    "print(\"\\nRandom sample of rows:\")\n",
    "print(df.sample(5))"
   ]
  },
  {
   "cell_type": "code",
   "execution_count": 23,
   "id": "e8afe2ce-5b51-44c5-9db6-2e344c8c0ab5",
   "metadata": {},
   "outputs": [
    {
     "name": "stdout",
     "output_type": "stream",
     "text": [
      "\n",
      "Columns in the dataset:\n",
      "Index(['track_name', 'artist(s)_name', 'artist_count', 'released_year',\n",
      "       'released_month', 'released_day', 'in_spotify_playlists',\n",
      "       'in_spotify_charts', 'streams', 'in_apple_playlists', 'in_apple_charts',\n",
      "       'in_deezer_playlists', 'in_deezer_charts', 'in_shazam_charts', 'bpm',\n",
      "       'key', 'mode', 'danceability_%', 'valence_%', 'energy_%',\n",
      "       'acousticness_%', 'instrumentalness_%', 'liveness_%', 'speechiness_%'],\n",
      "      dtype='object')\n"
     ]
    }
   ],
   "source": [
    "print(\"\\nColumns in the dataset:\")\n",
    "print(df.columns)"
   ]
  },
  {
   "cell_type": "code",
   "execution_count": 25,
   "id": "b07d1fee-9bd6-421f-9274-ff34ce8ba62e",
   "metadata": {},
   "outputs": [
    {
     "name": "stdout",
     "output_type": "stream",
     "text": [
      "\n",
      "Shape of the dataset (rows, columns):\n",
      "(953, 24)\n"
     ]
    }
   ],
   "source": [
    "print(\"\\nShape of the dataset (rows, columns):\")\n",
    "print(df.shape)"
   ]
  },
  {
   "cell_type": "code",
   "execution_count": 27,
   "id": "6ea700d2-be7b-4c18-a273-6e9e6795f923",
   "metadata": {},
   "outputs": [
    {
     "name": "stdout",
     "output_type": "stream",
     "text": [
      "\n",
      "Data types of each column:\n",
      "track_name              object\n",
      "artist(s)_name          object\n",
      "artist_count             int64\n",
      "released_year            int64\n",
      "released_month           int64\n",
      "released_day             int64\n",
      "in_spotify_playlists     int64\n",
      "in_spotify_charts        int64\n",
      "streams                 object\n",
      "in_apple_playlists       int64\n",
      "in_apple_charts          int64\n",
      "in_deezer_playlists     object\n",
      "in_deezer_charts         int64\n",
      "in_shazam_charts        object\n",
      "bpm                      int64\n",
      "key                     object\n",
      "mode                    object\n",
      "danceability_%           int64\n",
      "valence_%                int64\n",
      "energy_%                 int64\n",
      "acousticness_%           int64\n",
      "instrumentalness_%       int64\n",
      "liveness_%               int64\n",
      "speechiness_%            int64\n",
      "dtype: object\n"
     ]
    }
   ],
   "source": [
    "print(\"\\nData types of each column:\")\n",
    "print(df.dtypes)"
   ]
  },
  {
   "cell_type": "code",
   "execution_count": 29,
   "id": "500e543d-7bf4-4f6b-a3e2-83e91ac64021",
   "metadata": {},
   "outputs": [
    {
     "name": "stdout",
     "output_type": "stream",
     "text": [
      "\n",
      "Statistical summary of numeric columns:\n",
      "       artist_count  released_year  released_month  released_day  \\\n",
      "count    953.000000     953.000000      953.000000    953.000000   \n",
      "mean       1.556139    2018.238195        6.033578     13.930745   \n",
      "std        0.893044      11.116218        3.566435      9.201949   \n",
      "min        1.000000    1930.000000        1.000000      1.000000   \n",
      "25%        1.000000    2020.000000        3.000000      6.000000   \n",
      "50%        1.000000    2022.000000        6.000000     13.000000   \n",
      "75%        2.000000    2022.000000        9.000000     22.000000   \n",
      "max        8.000000    2023.000000       12.000000     31.000000   \n",
      "\n",
      "       in_spotify_playlists  in_spotify_charts  in_apple_playlists  \\\n",
      "count            953.000000         953.000000          953.000000   \n",
      "mean            5200.124869          12.009444           67.812172   \n",
      "std             7897.608990          19.575992           86.441493   \n",
      "min               31.000000           0.000000            0.000000   \n",
      "25%              875.000000           0.000000           13.000000   \n",
      "50%             2224.000000           3.000000           34.000000   \n",
      "75%             5542.000000          16.000000           88.000000   \n",
      "max            52898.000000         147.000000          672.000000   \n",
      "\n",
      "       in_apple_charts  in_deezer_charts         bpm  danceability_%  \\\n",
      "count       953.000000        953.000000  953.000000       953.00000   \n",
      "mean         51.908709          2.666317  122.540399        66.96957   \n",
      "std          50.630241          6.035599   28.057802        14.63061   \n",
      "min           0.000000          0.000000   65.000000        23.00000   \n",
      "25%           7.000000          0.000000  100.000000        57.00000   \n",
      "50%          38.000000          0.000000  121.000000        69.00000   \n",
      "75%          87.000000          2.000000  140.000000        78.00000   \n",
      "max         275.000000         58.000000  206.000000        96.00000   \n",
      "\n",
      "        valence_%    energy_%  acousticness_%  instrumentalness_%  liveness_%  \\\n",
      "count  953.000000  953.000000      953.000000          953.000000  953.000000   \n",
      "mean    51.431270   64.279119       27.057712            1.581322   18.213012   \n",
      "std     23.480632   16.550526       25.996077            8.409800   13.711223   \n",
      "min      4.000000    9.000000        0.000000            0.000000    3.000000   \n",
      "25%     32.000000   53.000000        6.000000            0.000000   10.000000   \n",
      "50%     51.000000   66.000000       18.000000            0.000000   12.000000   \n",
      "75%     70.000000   77.000000       43.000000            0.000000   24.000000   \n",
      "max     97.000000   97.000000       97.000000           91.000000   97.000000   \n",
      "\n",
      "       speechiness_%  \n",
      "count     953.000000  \n",
      "mean       10.131165  \n",
      "std         9.912888  \n",
      "min         2.000000  \n",
      "25%         4.000000  \n",
      "50%         6.000000  \n",
      "75%        11.000000  \n",
      "max        64.000000  \n"
     ]
    }
   ],
   "source": [
    "print(\"\\nStatistical summary of numeric columns:\")\n",
    "print(df.describe())"
   ]
  }
 ],
 "metadata": {
  "kernelspec": {
   "display_name": "Python 3 (ipykernel)",
   "language": "python",
   "name": "python3"
  },
  "language_info": {
   "codemirror_mode": {
    "name": "ipython",
    "version": 3
   },
   "file_extension": ".py",
   "mimetype": "text/x-python",
   "name": "python",
   "nbconvert_exporter": "python",
   "pygments_lexer": "ipython3",
   "version": "3.12.7"
  }
 },
 "nbformat": 4,
 "nbformat_minor": 5
}
